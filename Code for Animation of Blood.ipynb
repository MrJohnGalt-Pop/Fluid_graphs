{
 "cells": [
  {
   "cell_type": "code",
   "execution_count": 2,
   "id": "82b23673",
   "metadata": {},
   "outputs": [],
   "source": [
    "import numpy as np\n",
    "from scipy.integrate import quad\n",
    "import matplotlib\n",
    "import matplotlib.pyplot as plt\n",
    "\n",
    "p = 0.85\n",
    "w = 3*np.pi/p\n",
    "\n",
    "def f(x, w):\n",
    "    return -2000*np.exp(-(w*x)/2)*np.sin(w*x)\n",
    "\n",
    "a0 = 2/p*quad(lambda x: f(x, w), 0, p)[0]\n",
    "q0 = a0/2\n",
    "\n",
    "a, b, q = [], [], [q0]\n",
    "num_coeffs = 50\n",
    "for n in range(1, num_coeffs + 1):\n",
    "    an = 2/p*quad(lambda x: f(x, w)*np.cos(2*n*np.pi*(x - p/2)/p), 0, p)[0]\n",
    "    bn = 2/p*quad(lambda x: f(x, w)*np.sin(2*n*np.pi*(x - p/2)/p), 0, p)[0]\n",
    "    qn = 1/2*(an - 1j*bn)\n",
    "\n",
    "    a.append(an)\n",
    "    b.append(bn)\n",
    "    q.append(qn)\n",
    "\n",
    "a = np.array(a)\n",
    "b = np.array(b)\n"
   ]
  },
  {
   "cell_type": "code",
   "execution_count": 3,
   "id": "0d44c7ef",
   "metadata": {},
   "outputs": [],
   "source": [
    "rho = 1\n",
    "omega0 = 2*np.pi/p\n",
    "mu = 1\n",
    "R = 0.0254\n",
    "nu = mu/rho\n",
    "\n",
    "def J0(x):\n",
    "    from math import factorial as fact\n",
    "    op = 0\n",
    "    for i in range(10):\n",
    "        op += ((-1) ** i) * (x **(2 * i))/((fact(i) ** 2) * (4 ** i))\n",
    "    return op\n",
    "\n",
    "def vel(t, r):\n",
    "    #u_0 = lambda r: q0/(4*mu)*(r - R)*(r + R)\n",
    "    #u = u_0\n",
    "    #r = np.sqrt(x**2+y**2)\n",
    "    u = 0\n",
    "    for i in range(1,40):\n",
    "        u += np.real(q[i]*1j/(rho*i*omega0)*(1 - J0(1j*lmda(i*omega0)*r)/J0(1j*lmda(i*omega0)*R))*np.exp(1j*i*omega0*t))\n",
    "    return u + q0/(4*mu)*(r - R)*(r + R)\n",
    "\n",
    "def lmda(omega) :\n",
    "    return np.sqrt(omega/(2*nu))*(1+1j)"
   ]
  },
  {
   "cell_type": "code",
   "execution_count": null,
   "id": "0fc7a7af",
   "metadata": {},
   "outputs": [],
   "source": [
    "Nt, Nr = 1000, 50\n",
    "from matplotlib import cm\n",
    "from matplotlib import animation\n",
    "#import ipywidgets as widgets\n",
    "from mpl_toolkits import mplot3d\n",
    "%matplotlib notebook\n",
    "#import seaborn as sns\n",
    "\n",
    "fig = plt.figure()\n",
    "ax = fig.add_subplot(111,projection='3d')\n",
    "tt = np.linspace(-p/2,5*p/2,3*Nt)\n",
    "rr = np.linspace(0,R,Nr)\n",
    "k = np.linspace(0, 2*np.pi, 50)\n",
    "M,K = np.meshgrid(rr,k)\n",
    "X, Y = M*np.cos(K), M*np.sin(K)\n",
    "#ax.plot_surface(X,Y,P)\n",
    "#surf, = ax.plot_surface([], [], [])\n",
    "ax.set_xlim(( -R, R))            \n",
    "ax.set_ylim((-R, R))\n",
    "ax.set_zlim((-0.04,0.1))\n",
    "P = np.zeros_like(M)\n",
    "surf = ax.plot_surface(X,Y,P, cmap=matplotlib.cm.coolwarm)\n",
    "\n",
    "def drawframe(n):\n",
    "    global surf\n",
    "    P = np.zeros_like(M)\n",
    "    surf.remove()\n",
    "    for i in range(Nr):\n",
    "        P[i] = vel(tt[n],rr[None,:])\n",
    "        \n",
    "    surf = ax.plot_surface(X,Y,P, cmap=matplotlib.cm.coolwarm)\n",
    "    return surf\n",
    "\n",
    "anim = animation.FuncAnimation(fig, drawframe, frames=3*Nt, interval=10, blit=True)   \n",
    "from IPython.display import HTML\n",
    "HTML(anim.to_html5_video())"
   ]
  },
  {
   "cell_type": "code",
   "execution_count": null,
   "id": "477ae09d",
   "metadata": {},
   "outputs": [],
   "source": [
    "#"
   ]
  }
 ],
 "metadata": {
  "kernelspec": {
   "display_name": "Python 3 (ipykernel)",
   "language": "python",
   "name": "python3"
  },
  "language_info": {
   "codemirror_mode": {
    "name": "ipython",
    "version": 3
   },
   "file_extension": ".py",
   "mimetype": "text/x-python",
   "name": "python",
   "nbconvert_exporter": "python",
   "pygments_lexer": "ipython3",
   "version": "3.9.7"
  }
 },
 "nbformat": 4,
 "nbformat_minor": 5
}
